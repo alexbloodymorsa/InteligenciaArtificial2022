{
 "cells": [
  {
   "cell_type": "markdown",
   "metadata": {
    "id": "onXAHvnujf5P"
   },
   "source": [
    "## **Práctica 9: Pronóstico (Regresión lineal múltiple)**\n",
    "\n",
    "Nombre: Alejandro Barreiro Valdez\n",
    "\n",
    "No. Cuenta: 317520888\n",
    "\n",
    "Email: alex.barreiro.v@gmail.com"
   ]
  },
  {
   "cell_type": "markdown",
   "metadata": {
    "id": "EUw9Ecfdkl_w"
   },
   "source": [
    "### **Caso de estudio**\n",
    "\n",
    "Estudios clínicos a partir de imágenes digitalizadas de pacientes con cáncer de mama de Wisconsin (WDBC, Wisconsin Diagnostic Breast Cancer)\n",
    "\n",
    "**Objetivo.** Obtener grupos de pacientes con características similares, diagnosticadas con un tumor de mama, a través de clustering jerárquico y particional.\n",
    "\n",
    "**Fuente de datos:**\n",
    "\n",
    "https://archive.ics.uci.edu/ml/datasets/Breast+Cancer+Wisconsin+(Diagnostic)"
   ]
  },
  {
   "cell_type": "markdown",
   "metadata": {
    "id": "ibdVGi8yvnKX"
   },
   "source": [
    "#### **1) Importar las bibliotecas necesarias y los datos**"
   ]
  },
  {
   "cell_type": "code",
   "execution_count": 1,
   "metadata": {
    "id": "QGNIUoKojeLD"
   },
   "outputs": [],
   "source": [
    "import pandas as pd               # Para la manipulación y análisis de datos\n",
    "import numpy as np                # Para crear vectores y matrices n dimensionales\n",
    "import matplotlib.pyplot as plt   # Para la generación de gráficas a partir de los datos\n",
    "import seaborn as sns             # Para la visualización de datos basado en matplotlib\n",
    "%matplotlib inline"
   ]
  },
  {
   "cell_type": "code",
   "execution_count": 2,
   "metadata": {
    "colab": {
     "base_uri": "https://localhost:8080/",
     "height": 490
    },
    "executionInfo": {
     "elapsed": 179,
     "status": "ok",
     "timestamp": 1636477969197,
     "user": {
      "displayName": "Guillermo Molero-Castillo",
      "photoUrl": "https://lh3.googleusercontent.com/a/default-user=s64",
      "userId": "05385957137518665248"
     },
     "user_tz": 360
    },
    "id": "0pu3MIw8zHFu",
    "outputId": "86716f47-bcfc-4de6-a012-a93cde33b649"
   },
   "outputs": [
    {
     "data": {
      "text/html": [
       "<div>\n",
       "<style scoped>\n",
       "    .dataframe tbody tr th:only-of-type {\n",
       "        vertical-align: middle;\n",
       "    }\n",
       "\n",
       "    .dataframe tbody tr th {\n",
       "        vertical-align: top;\n",
       "    }\n",
       "\n",
       "    .dataframe thead th {\n",
       "        text-align: right;\n",
       "    }\n",
       "</style>\n",
       "<table border=\"1\" class=\"dataframe\">\n",
       "  <thead>\n",
       "    <tr style=\"text-align: right;\">\n",
       "      <th></th>\n",
       "      <th>IDNumber</th>\n",
       "      <th>Diagnosis</th>\n",
       "      <th>Radius</th>\n",
       "      <th>Texture</th>\n",
       "      <th>Perimeter</th>\n",
       "      <th>Area</th>\n",
       "      <th>Smoothness</th>\n",
       "      <th>Compactness</th>\n",
       "      <th>Concavity</th>\n",
       "      <th>ConcavePoints</th>\n",
       "      <th>Symmetry</th>\n",
       "      <th>FractalDimension</th>\n",
       "    </tr>\n",
       "  </thead>\n",
       "  <tbody>\n",
       "    <tr>\n",
       "      <th>0</th>\n",
       "      <td>P-842302</td>\n",
       "      <td>M</td>\n",
       "      <td>17.99</td>\n",
       "      <td>10.38</td>\n",
       "      <td>122.80</td>\n",
       "      <td>1001.0</td>\n",
       "      <td>0.11840</td>\n",
       "      <td>0.27760</td>\n",
       "      <td>0.30010</td>\n",
       "      <td>0.14710</td>\n",
       "      <td>0.2419</td>\n",
       "      <td>0.07871</td>\n",
       "    </tr>\n",
       "    <tr>\n",
       "      <th>1</th>\n",
       "      <td>P-842517</td>\n",
       "      <td>M</td>\n",
       "      <td>20.57</td>\n",
       "      <td>17.77</td>\n",
       "      <td>132.90</td>\n",
       "      <td>1326.0</td>\n",
       "      <td>0.08474</td>\n",
       "      <td>0.07864</td>\n",
       "      <td>0.08690</td>\n",
       "      <td>0.07017</td>\n",
       "      <td>0.1812</td>\n",
       "      <td>0.05667</td>\n",
       "    </tr>\n",
       "    <tr>\n",
       "      <th>2</th>\n",
       "      <td>P-84300903</td>\n",
       "      <td>M</td>\n",
       "      <td>19.69</td>\n",
       "      <td>21.25</td>\n",
       "      <td>130.00</td>\n",
       "      <td>1203.0</td>\n",
       "      <td>0.10960</td>\n",
       "      <td>0.15990</td>\n",
       "      <td>0.19740</td>\n",
       "      <td>0.12790</td>\n",
       "      <td>0.2069</td>\n",
       "      <td>0.05999</td>\n",
       "    </tr>\n",
       "    <tr>\n",
       "      <th>3</th>\n",
       "      <td>P-84348301</td>\n",
       "      <td>M</td>\n",
       "      <td>11.42</td>\n",
       "      <td>20.38</td>\n",
       "      <td>77.58</td>\n",
       "      <td>386.1</td>\n",
       "      <td>0.14250</td>\n",
       "      <td>0.28390</td>\n",
       "      <td>0.24140</td>\n",
       "      <td>0.10520</td>\n",
       "      <td>0.2597</td>\n",
       "      <td>0.09744</td>\n",
       "    </tr>\n",
       "    <tr>\n",
       "      <th>4</th>\n",
       "      <td>P-84358402</td>\n",
       "      <td>M</td>\n",
       "      <td>20.29</td>\n",
       "      <td>14.34</td>\n",
       "      <td>135.10</td>\n",
       "      <td>1297.0</td>\n",
       "      <td>0.10030</td>\n",
       "      <td>0.13280</td>\n",
       "      <td>0.19800</td>\n",
       "      <td>0.10430</td>\n",
       "      <td>0.1809</td>\n",
       "      <td>0.05883</td>\n",
       "    </tr>\n",
       "    <tr>\n",
       "      <th>...</th>\n",
       "      <td>...</td>\n",
       "      <td>...</td>\n",
       "      <td>...</td>\n",
       "      <td>...</td>\n",
       "      <td>...</td>\n",
       "      <td>...</td>\n",
       "      <td>...</td>\n",
       "      <td>...</td>\n",
       "      <td>...</td>\n",
       "      <td>...</td>\n",
       "      <td>...</td>\n",
       "      <td>...</td>\n",
       "    </tr>\n",
       "    <tr>\n",
       "      <th>564</th>\n",
       "      <td>P-926424</td>\n",
       "      <td>M</td>\n",
       "      <td>21.56</td>\n",
       "      <td>22.39</td>\n",
       "      <td>142.00</td>\n",
       "      <td>1479.0</td>\n",
       "      <td>0.11100</td>\n",
       "      <td>0.11590</td>\n",
       "      <td>0.24390</td>\n",
       "      <td>0.13890</td>\n",
       "      <td>0.1726</td>\n",
       "      <td>0.05623</td>\n",
       "    </tr>\n",
       "    <tr>\n",
       "      <th>565</th>\n",
       "      <td>P-926682</td>\n",
       "      <td>M</td>\n",
       "      <td>20.13</td>\n",
       "      <td>28.25</td>\n",
       "      <td>131.20</td>\n",
       "      <td>1261.0</td>\n",
       "      <td>0.09780</td>\n",
       "      <td>0.10340</td>\n",
       "      <td>0.14400</td>\n",
       "      <td>0.09791</td>\n",
       "      <td>0.1752</td>\n",
       "      <td>0.05533</td>\n",
       "    </tr>\n",
       "    <tr>\n",
       "      <th>566</th>\n",
       "      <td>P-926954</td>\n",
       "      <td>M</td>\n",
       "      <td>16.60</td>\n",
       "      <td>28.08</td>\n",
       "      <td>108.30</td>\n",
       "      <td>858.1</td>\n",
       "      <td>0.08455</td>\n",
       "      <td>0.10230</td>\n",
       "      <td>0.09251</td>\n",
       "      <td>0.05302</td>\n",
       "      <td>0.1590</td>\n",
       "      <td>0.05648</td>\n",
       "    </tr>\n",
       "    <tr>\n",
       "      <th>567</th>\n",
       "      <td>P-927241</td>\n",
       "      <td>M</td>\n",
       "      <td>20.60</td>\n",
       "      <td>29.33</td>\n",
       "      <td>140.10</td>\n",
       "      <td>1265.0</td>\n",
       "      <td>0.11780</td>\n",
       "      <td>0.27700</td>\n",
       "      <td>0.35140</td>\n",
       "      <td>0.15200</td>\n",
       "      <td>0.2397</td>\n",
       "      <td>0.07016</td>\n",
       "    </tr>\n",
       "    <tr>\n",
       "      <th>568</th>\n",
       "      <td>P-92751</td>\n",
       "      <td>B</td>\n",
       "      <td>7.76</td>\n",
       "      <td>24.54</td>\n",
       "      <td>47.92</td>\n",
       "      <td>181.0</td>\n",
       "      <td>0.05263</td>\n",
       "      <td>0.04362</td>\n",
       "      <td>0.00000</td>\n",
       "      <td>0.00000</td>\n",
       "      <td>0.1587</td>\n",
       "      <td>0.05884</td>\n",
       "    </tr>\n",
       "  </tbody>\n",
       "</table>\n",
       "<p>569 rows × 12 columns</p>\n",
       "</div>"
      ],
      "text/plain": [
       "       IDNumber Diagnosis  Radius  Texture  Perimeter    Area  Smoothness  \\\n",
       "0      P-842302         M   17.99    10.38     122.80  1001.0     0.11840   \n",
       "1      P-842517         M   20.57    17.77     132.90  1326.0     0.08474   \n",
       "2    P-84300903         M   19.69    21.25     130.00  1203.0     0.10960   \n",
       "3    P-84348301         M   11.42    20.38      77.58   386.1     0.14250   \n",
       "4    P-84358402         M   20.29    14.34     135.10  1297.0     0.10030   \n",
       "..          ...       ...     ...      ...        ...     ...         ...   \n",
       "564    P-926424         M   21.56    22.39     142.00  1479.0     0.11100   \n",
       "565    P-926682         M   20.13    28.25     131.20  1261.0     0.09780   \n",
       "566    P-926954         M   16.60    28.08     108.30   858.1     0.08455   \n",
       "567    P-927241         M   20.60    29.33     140.10  1265.0     0.11780   \n",
       "568     P-92751         B    7.76    24.54      47.92   181.0     0.05263   \n",
       "\n",
       "     Compactness  Concavity  ConcavePoints  Symmetry  FractalDimension  \n",
       "0        0.27760    0.30010        0.14710    0.2419           0.07871  \n",
       "1        0.07864    0.08690        0.07017    0.1812           0.05667  \n",
       "2        0.15990    0.19740        0.12790    0.2069           0.05999  \n",
       "3        0.28390    0.24140        0.10520    0.2597           0.09744  \n",
       "4        0.13280    0.19800        0.10430    0.1809           0.05883  \n",
       "..           ...        ...            ...       ...               ...  \n",
       "564      0.11590    0.24390        0.13890    0.1726           0.05623  \n",
       "565      0.10340    0.14400        0.09791    0.1752           0.05533  \n",
       "566      0.10230    0.09251        0.05302    0.1590           0.05648  \n",
       "567      0.27700    0.35140        0.15200    0.2397           0.07016  \n",
       "568      0.04362    0.00000        0.00000    0.1587           0.05884  \n",
       "\n",
       "[569 rows x 12 columns]"
      ]
     },
     "execution_count": 2,
     "metadata": {},
     "output_type": "execute_result"
    }
   ],
   "source": [
    "BCancer = pd.read_csv('WDBCOriginal.csv')\n",
    "BCancer "
   ]
  },
  {
   "cell_type": "markdown",
   "metadata": {
    "id": "yH7LAN112Aea"
   },
   "source": [
    "#### **2) Gráfica del área del tumor por paciente**\n"
   ]
  },
  {
   "cell_type": "code",
   "execution_count": 3,
   "metadata": {
    "colab": {
     "base_uri": "https://localhost:8080/",
     "height": 326
    },
    "executionInfo": {
     "elapsed": 5602,
     "status": "ok",
     "timestamp": 1636478380435,
     "user": {
      "displayName": "Guillermo Molero-Castillo",
      "photoUrl": "https://lh3.googleusercontent.com/a/default-user=s64",
      "userId": "05385957137518665248"
     },
     "user_tz": 360
    },
    "id": "yUacI_MW5u49",
    "outputId": "e2b2a8bc-dd41-4f89-e39b-9c4a72e8b228"
   },
   "outputs": [
    {
     "data": {
      "image/png": "[encoded data removed]",
      "text/plain": [
       "<Figure size 1440x360 with 1 Axes>"
      ]
     },
     "metadata": {
      "needs_background": "light"
     },
     "output_type": "display_data"
    }
   ],
   "source": [
    "plt.figure(figsize=(20, 5))\n",
    "plt.plot(BCancer['IDNumber'], BCancer['Area'], color='green', marker='o', label='Area')\n",
    "plt.xlabel('Paciente')\n",
    "plt.ylabel('Tamaño del tumor')\n",
    "plt.title('Pacientes con tumores cancerígenos')\n",
    "plt.grid(True)\n",
    "plt.legend()\n",
    "plt.show()"
   ]
  },
  {
   "cell_type": "markdown",
   "metadata": {
    "id": "1fsAibZ0LKSK"
   },
   "source": [
    "#### **3) Selección de características**"
   ]
  },
  {
   "cell_type": "code",
   "execution_count": 4,
   "metadata": {
    "colab": {
     "base_uri": "https://localhost:8080/",
     "height": 505
    },
    "executionInfo": {
     "elapsed": 759,
     "status": "ok",
     "timestamp": 1636478452320,
     "user": {
      "displayName": "Guillermo Molero-Castillo",
      "photoUrl": "https://lh3.googleusercontent.com/a/default-user=s64",
      "userId": "05385957137518665248"
     },
     "user_tz": 360
    },
    "id": "RQUmgfHzKsBB",
    "outputId": "3c6e30a5-f8d5-4358-8110-4867c12446a5"
   },
   "outputs": [
    {
     "data": {
      "image/png": "[encoded data removed]",
      "text/plain": [
       "<Figure size 1008x504 with 2 Axes>"
      ]
     },
     "metadata": {
      "needs_background": "light"
     },
     "output_type": "display_data"
    }
   ],
   "source": [
    "plt.figure(figsize=(14,7))\n",
    "MatrizInf = np.triu(BCancer.corr())\n",
    "sns.heatmap(BCancer.corr(), cmap='RdBu_r', annot=True, mask=MatrizInf)\n",
    "plt.show() "
   ]
  },
  {
   "cell_type": "markdown",
   "metadata": {
    "id": "2E0gTSbJLXbT"
   },
   "source": [
    "**Varibles seleccionadas:**\n",
    "\n",
    "1) Textura [Posición 3]\n",
    "\n",
    "2) Area [Posición 5]\n",
    "\n",
    "3) Smoothness [Posición 6]\n",
    "\n",
    "4) Compactness [Posición 7]\n",
    "\n",
    "5) Symmetry [Posición 10]\n",
    "\n",
    "6) FractalDimension [Posición 11]\n",
    "\n",
    "*7) Perimeter [Posición 4] - Para calcular el área del tumor -"
   ]
  },
  {
   "cell_type": "markdown",
   "metadata": {
    "id": "aaQK91262_mL"
   },
   "source": [
    "#### **4) Aplicación del algoritmo**"
   ]
  },
  {
   "cell_type": "code",
   "execution_count": 5,
   "metadata": {
    "id": "_siUyNHe3EMb"
   },
   "outputs": [],
   "source": [
    "from sklearn import linear_model\n",
    "from sklearn.metrics import mean_squared_error, max_error, r2_score\n",
    "from sklearn import model_selection"
   ]
  },
  {
   "cell_type": "markdown",
   "metadata": {
    "id": "mBVi5b0p3mqC"
   },
   "source": [
    "Se seleccionan las variables predictoras (X) y la variable a pronosticar (Y)"
   ]
  },
  {
   "cell_type": "code",
   "execution_count": 6,
   "metadata": {
    "colab": {
     "base_uri": "https://localhost:8080/",
     "height": 419
    },
    "executionInfo": {
     "elapsed": 156,
     "status": "ok",
     "timestamp": 1636478690305,
     "user": {
      "displayName": "Guillermo Molero-Castillo",
      "photoUrl": "https://lh3.googleusercontent.com/a/default-user=s64",
      "userId": "05385957137518665248"
     },
     "user_tz": 360
    },
    "id": "CxLDjNlGRgGn",
    "outputId": "005440a1-2aa7-4ed1-be8c-436adefbe2bf"
   },
   "outputs": [
    {
     "data": {
      "text/html": [
       "<div>\n",
       "<style scoped>\n",
       "    .dataframe tbody tr th:only-of-type {\n",
       "        vertical-align: middle;\n",
       "    }\n",
       "\n",
       "    .dataframe tbody tr th {\n",
       "        vertical-align: top;\n",
       "    }\n",
       "\n",
       "    .dataframe thead th {\n",
       "        text-align: right;\n",
       "    }\n",
       "</style>\n",
       "<table border=\"1\" class=\"dataframe\">\n",
       "  <thead>\n",
       "    <tr style=\"text-align: right;\">\n",
       "      <th></th>\n",
       "      <th>0</th>\n",
       "      <th>1</th>\n",
       "      <th>2</th>\n",
       "      <th>3</th>\n",
       "      <th>4</th>\n",
       "      <th>5</th>\n",
       "    </tr>\n",
       "  </thead>\n",
       "  <tbody>\n",
       "    <tr>\n",
       "      <th>0</th>\n",
       "      <td>10.38</td>\n",
       "      <td>122.80</td>\n",
       "      <td>0.11840</td>\n",
       "      <td>0.27760</td>\n",
       "      <td>0.2419</td>\n",
       "      <td>0.07871</td>\n",
       "    </tr>\n",
       "    <tr>\n",
       "      <th>1</th>\n",
       "      <td>17.77</td>\n",
       "      <td>132.90</td>\n",
       "      <td>0.08474</td>\n",
       "      <td>0.07864</td>\n",
       "      <td>0.1812</td>\n",
       "      <td>0.05667</td>\n",
       "    </tr>\n",
       "    <tr>\n",
       "      <th>2</th>\n",
       "      <td>21.25</td>\n",
       "      <td>130.00</td>\n",
       "      <td>0.10960</td>\n",
       "      <td>0.15990</td>\n",
       "      <td>0.2069</td>\n",
       "      <td>0.05999</td>\n",
       "    </tr>\n",
       "    <tr>\n",
       "      <th>3</th>\n",
       "      <td>20.38</td>\n",
       "      <td>77.58</td>\n",
       "      <td>0.14250</td>\n",
       "      <td>0.28390</td>\n",
       "      <td>0.2597</td>\n",
       "      <td>0.09744</td>\n",
       "    </tr>\n",
       "    <tr>\n",
       "      <th>4</th>\n",
       "      <td>14.34</td>\n",
       "      <td>135.10</td>\n",
       "      <td>0.10030</td>\n",
       "      <td>0.13280</td>\n",
       "      <td>0.1809</td>\n",
       "      <td>0.05883</td>\n",
       "    </tr>\n",
       "    <tr>\n",
       "      <th>...</th>\n",
       "      <td>...</td>\n",
       "      <td>...</td>\n",
       "      <td>...</td>\n",
       "      <td>...</td>\n",
       "      <td>...</td>\n",
       "      <td>...</td>\n",
       "    </tr>\n",
       "    <tr>\n",
       "      <th>564</th>\n",
       "      <td>22.39</td>\n",
       "      <td>142.00</td>\n",
       "      <td>0.11100</td>\n",
       "      <td>0.11590</td>\n",
       "      <td>0.1726</td>\n",
       "      <td>0.05623</td>\n",
       "    </tr>\n",
       "    <tr>\n",
       "      <th>565</th>\n",
       "      <td>28.25</td>\n",
       "      <td>131.20</td>\n",
       "      <td>0.09780</td>\n",
       "      <td>0.10340</td>\n",
       "      <td>0.1752</td>\n",
       "      <td>0.05533</td>\n",
       "    </tr>\n",
       "    <tr>\n",
       "      <th>566</th>\n",
       "      <td>28.08</td>\n",
       "      <td>108.30</td>\n",
       "      <td>0.08455</td>\n",
       "      <td>0.10230</td>\n",
       "      <td>0.1590</td>\n",
       "      <td>0.05648</td>\n",
       "    </tr>\n",
       "    <tr>\n",
       "      <th>567</th>\n",
       "      <td>29.33</td>\n",
       "      <td>140.10</td>\n",
       "      <td>0.11780</td>\n",
       "      <td>0.27700</td>\n",
       "      <td>0.2397</td>\n",
       "      <td>0.07016</td>\n",
       "    </tr>\n",
       "    <tr>\n",
       "      <th>568</th>\n",
       "      <td>24.54</td>\n",
       "      <td>47.92</td>\n",
       "      <td>0.05263</td>\n",
       "      <td>0.04362</td>\n",
       "      <td>0.1587</td>\n",
       "      <td>0.05884</td>\n",
       "    </tr>\n",
       "  </tbody>\n",
       "</table>\n",
       "<p>569 rows × 6 columns</p>\n",
       "</div>"
      ],
      "text/plain": [
       "         0       1        2        3       4        5\n",
       "0    10.38  122.80  0.11840  0.27760  0.2419  0.07871\n",
       "1    17.77  132.90  0.08474  0.07864  0.1812  0.05667\n",
       "2    21.25  130.00  0.10960  0.15990  0.2069  0.05999\n",
       "3    20.38   77.58  0.14250  0.28390  0.2597  0.09744\n",
       "4    14.34  135.10  0.10030  0.13280  0.1809  0.05883\n",
       "..     ...     ...      ...      ...     ...      ...\n",
       "564  22.39  142.00  0.11100  0.11590  0.1726  0.05623\n",
       "565  28.25  131.20  0.09780  0.10340  0.1752  0.05533\n",
       "566  28.08  108.30  0.08455  0.10230  0.1590  0.05648\n",
       "567  29.33  140.10  0.11780  0.27700  0.2397  0.07016\n",
       "568  24.54   47.92  0.05263  0.04362  0.1587  0.05884\n",
       "\n",
       "[569 rows x 6 columns]"
      ]
     },
     "execution_count": 6,
     "metadata": {},
     "output_type": "execute_result"
    }
   ],
   "source": [
    "X = np.array(BCancer[['Texture',\n",
    "                      'Perimeter',\n",
    "                      'Smoothness',\t\n",
    "                      'Compactness',\t\n",
    "                      'Symmetry',\t\n",
    "                      'FractalDimension']])\n",
    "pd.DataFrame(X)\n",
    "\n",
    "#['Radius', 'Texture', 'Perimeter', 'Smoothness', 'Compactness',\t'Concavity', 'ConcavePoints', 'Symmetry',\t'FractalDimension']"
   ]
  },
  {
   "cell_type": "code",
   "execution_count": 7,
   "metadata": {
    "colab": {
     "base_uri": "https://localhost:8080/",
     "height": 419
    },
    "executionInfo": {
     "elapsed": 274,
     "status": "ok",
     "timestamp": 1636478748789,
     "user": {
      "displayName": "Guillermo Molero-Castillo",
      "photoUrl": "https://lh3.googleusercontent.com/a/default-user=s64",
      "userId": "05385957137518665248"
     },
     "user_tz": 360
    },
    "id": "1clQkiT0SEo7",
    "outputId": "6b96d70f-06e2-4954-e9ee-4cfbd1bb7429"
   },
   "outputs": [
    {
     "data": {
      "text/html": [
       "<div>\n",
       "<style scoped>\n",
       "    .dataframe tbody tr th:only-of-type {\n",
       "        vertical-align: middle;\n",
       "    }\n",
       "\n",
       "    .dataframe tbody tr th {\n",
       "        vertical-align: top;\n",
       "    }\n",
       "\n",
       "    .dataframe thead th {\n",
       "        text-align: right;\n",
       "    }\n",
       "</style>\n",
       "<table border=\"1\" class=\"dataframe\">\n",
       "  <thead>\n",
       "    <tr style=\"text-align: right;\">\n",
       "      <th></th>\n",
       "      <th>0</th>\n",
       "    </tr>\n",
       "  </thead>\n",
       "  <tbody>\n",
       "    <tr>\n",
       "      <th>0</th>\n",
       "      <td>1001.0</td>\n",
       "    </tr>\n",
       "    <tr>\n",
       "      <th>1</th>\n",
       "      <td>1326.0</td>\n",
       "    </tr>\n",
       "    <tr>\n",
       "      <th>2</th>\n",
       "      <td>1203.0</td>\n",
       "    </tr>\n",
       "    <tr>\n",
       "      <th>3</th>\n",
       "      <td>386.1</td>\n",
       "    </tr>\n",
       "    <tr>\n",
       "      <th>4</th>\n",
       "      <td>1297.0</td>\n",
       "    </tr>\n",
       "    <tr>\n",
       "      <th>...</th>\n",
       "      <td>...</td>\n",
       "    </tr>\n",
       "    <tr>\n",
       "      <th>564</th>\n",
       "      <td>1479.0</td>\n",
       "    </tr>\n",
       "    <tr>\n",
       "      <th>565</th>\n",
       "      <td>1261.0</td>\n",
       "    </tr>\n",
       "    <tr>\n",
       "      <th>566</th>\n",
       "      <td>858.1</td>\n",
       "    </tr>\n",
       "    <tr>\n",
       "      <th>567</th>\n",
       "      <td>1265.0</td>\n",
       "    </tr>\n",
       "    <tr>\n",
       "      <th>568</th>\n",
       "      <td>181.0</td>\n",
       "    </tr>\n",
       "  </tbody>\n",
       "</table>\n",
       "<p>569 rows × 1 columns</p>\n",
       "</div>"
      ],
      "text/plain": [
       "          0\n",
       "0    1001.0\n",
       "1    1326.0\n",
       "2    1203.0\n",
       "3     386.1\n",
       "4    1297.0\n",
       "..      ...\n",
       "564  1479.0\n",
       "565  1261.0\n",
       "566   858.1\n",
       "567  1265.0\n",
       "568   181.0\n",
       "\n",
       "[569 rows x 1 columns]"
      ]
     },
     "execution_count": 7,
     "metadata": {},
     "output_type": "execute_result"
    }
   ],
   "source": [
    "Y = np.array(BCancer[['Area']])\n",
    "pd.DataFrame(Y)"
   ]
  },
  {
   "cell_type": "markdown",
   "metadata": {
    "id": "AzaDJrxU2ZzT"
   },
   "source": [
    "Se hace la división de los datos"
   ]
  },
  {
   "cell_type": "code",
   "execution_count": 8,
   "metadata": {
    "id": "iYPyFYdDxzAR"
   },
   "outputs": [],
   "source": [
    "X_train, X_test, Y_train, Y_test = model_selection.train_test_split(X, Y, \n",
    "                                                                    test_size = 0.2, \n",
    "                                                                    random_state = 1234, \n",
    "                                                                    shuffle = True)"
   ]
  },
  {
   "cell_type": "code",
   "execution_count": 9,
   "metadata": {
    "colab": {
     "base_uri": "https://localhost:8080/",
     "height": 419
    },
    "executionInfo": {
     "elapsed": 172,
     "status": "ok",
     "timestamp": 1636479292298,
     "user": {
      "displayName": "Guillermo Molero-Castillo",
      "photoUrl": "https://lh3.googleusercontent.com/a/default-user=s64",
      "userId": "05385957137518665248"
     },
     "user_tz": 360
    },
    "id": "FN1EM1C_ywuT",
    "outputId": "3d4a8473-1d51-4408-8438-657ad5efb9a1"
   },
   "outputs": [
    {
     "data": {
      "text/html": [
       "<div>\n",
       "<style scoped>\n",
       "    .dataframe tbody tr th:only-of-type {\n",
       "        vertical-align: middle;\n",
       "    }\n",
       "\n",
       "    .dataframe tbody tr th {\n",
       "        vertical-align: top;\n",
       "    }\n",
       "\n",
       "    .dataframe thead th {\n",
       "        text-align: right;\n",
       "    }\n",
       "</style>\n",
       "<table border=\"1\" class=\"dataframe\">\n",
       "  <thead>\n",
       "    <tr style=\"text-align: right;\">\n",
       "      <th></th>\n",
       "      <th>0</th>\n",
       "      <th>1</th>\n",
       "      <th>2</th>\n",
       "      <th>3</th>\n",
       "      <th>4</th>\n",
       "      <th>5</th>\n",
       "    </tr>\n",
       "  </thead>\n",
       "  <tbody>\n",
       "    <tr>\n",
       "      <th>0</th>\n",
       "      <td>18.22</td>\n",
       "      <td>84.45</td>\n",
       "      <td>0.12180</td>\n",
       "      <td>0.16610</td>\n",
       "      <td>0.1709</td>\n",
       "      <td>0.07253</td>\n",
       "    </tr>\n",
       "    <tr>\n",
       "      <th>1</th>\n",
       "      <td>22.44</td>\n",
       "      <td>71.49</td>\n",
       "      <td>0.09566</td>\n",
       "      <td>0.08194</td>\n",
       "      <td>0.2030</td>\n",
       "      <td>0.06552</td>\n",
       "    </tr>\n",
       "    <tr>\n",
       "      <th>2</th>\n",
       "      <td>20.76</td>\n",
       "      <td>82.15</td>\n",
       "      <td>0.09933</td>\n",
       "      <td>0.12090</td>\n",
       "      <td>0.1735</td>\n",
       "      <td>0.07070</td>\n",
       "    </tr>\n",
       "    <tr>\n",
       "      <th>3</th>\n",
       "      <td>23.84</td>\n",
       "      <td>82.69</td>\n",
       "      <td>0.11220</td>\n",
       "      <td>0.12620</td>\n",
       "      <td>0.1905</td>\n",
       "      <td>0.06590</td>\n",
       "    </tr>\n",
       "    <tr>\n",
       "      <th>4</th>\n",
       "      <td>18.32</td>\n",
       "      <td>66.82</td>\n",
       "      <td>0.08142</td>\n",
       "      <td>0.04462</td>\n",
       "      <td>0.2372</td>\n",
       "      <td>0.05768</td>\n",
       "    </tr>\n",
       "    <tr>\n",
       "      <th>...</th>\n",
       "      <td>...</td>\n",
       "      <td>...</td>\n",
       "      <td>...</td>\n",
       "      <td>...</td>\n",
       "      <td>...</td>\n",
       "      <td>...</td>\n",
       "    </tr>\n",
       "    <tr>\n",
       "      <th>450</th>\n",
       "      <td>15.18</td>\n",
       "      <td>88.99</td>\n",
       "      <td>0.09516</td>\n",
       "      <td>0.07688</td>\n",
       "      <td>0.2110</td>\n",
       "      <td>0.05853</td>\n",
       "    </tr>\n",
       "    <tr>\n",
       "      <th>451</th>\n",
       "      <td>15.10</td>\n",
       "      <td>141.30</td>\n",
       "      <td>0.10010</td>\n",
       "      <td>0.15150</td>\n",
       "      <td>0.1973</td>\n",
       "      <td>0.06183</td>\n",
       "    </tr>\n",
       "    <tr>\n",
       "      <th>452</th>\n",
       "      <td>18.60</td>\n",
       "      <td>81.09</td>\n",
       "      <td>0.09965</td>\n",
       "      <td>0.10580</td>\n",
       "      <td>0.1925</td>\n",
       "      <td>0.06373</td>\n",
       "    </tr>\n",
       "    <tr>\n",
       "      <th>453</th>\n",
       "      <td>18.70</td>\n",
       "      <td>120.30</td>\n",
       "      <td>0.11480</td>\n",
       "      <td>0.14850</td>\n",
       "      <td>0.2092</td>\n",
       "      <td>0.06310</td>\n",
       "    </tr>\n",
       "    <tr>\n",
       "      <th>454</th>\n",
       "      <td>13.78</td>\n",
       "      <td>81.78</td>\n",
       "      <td>0.09667</td>\n",
       "      <td>0.08393</td>\n",
       "      <td>0.1638</td>\n",
       "      <td>0.06100</td>\n",
       "    </tr>\n",
       "  </tbody>\n",
       "</table>\n",
       "<p>455 rows × 6 columns</p>\n",
       "</div>"
      ],
      "text/plain": [
       "         0       1        2        3       4        5\n",
       "0    18.22   84.45  0.12180  0.16610  0.1709  0.07253\n",
       "1    22.44   71.49  0.09566  0.08194  0.2030  0.06552\n",
       "2    20.76   82.15  0.09933  0.12090  0.1735  0.07070\n",
       "3    23.84   82.69  0.11220  0.12620  0.1905  0.06590\n",
       "4    18.32   66.82  0.08142  0.04462  0.2372  0.05768\n",
       "..     ...     ...      ...      ...     ...      ...\n",
       "450  15.18   88.99  0.09516  0.07688  0.2110  0.05853\n",
       "451  15.10  141.30  0.10010  0.15150  0.1973  0.06183\n",
       "452  18.60   81.09  0.09965  0.10580  0.1925  0.06373\n",
       "453  18.70  120.30  0.11480  0.14850  0.2092  0.06310\n",
       "454  13.78   81.78  0.09667  0.08393  0.1638  0.06100\n",
       "\n",
       "[455 rows x 6 columns]"
      ]
     },
     "execution_count": 9,
     "metadata": {},
     "output_type": "execute_result"
    }
   ],
   "source": [
    "pd.DataFrame(X_train)\n",
    "#pd.DataFrame(X_test)"
   ]
  },
  {
   "cell_type": "code",
   "execution_count": 10,
   "metadata": {
    "colab": {
     "base_uri": "https://localhost:8080/",
     "height": 419
    },
    "executionInfo": {
     "elapsed": 185,
     "status": "ok",
     "timestamp": 1636479305234,
     "user": {
      "displayName": "Guillermo Molero-Castillo",
      "photoUrl": "https://lh3.googleusercontent.com/a/default-user=s64",
      "userId": "05385957137518665248"
     },
     "user_tz": 360
    },
    "id": "fg6emkP2y6LB",
    "outputId": "ca48226d-83da-4add-fcd7-be6351258712"
   },
   "outputs": [
    {
     "data": {
      "text/html": [
       "<div>\n",
       "<style scoped>\n",
       "    .dataframe tbody tr th:only-of-type {\n",
       "        vertical-align: middle;\n",
       "    }\n",
       "\n",
       "    .dataframe tbody tr th {\n",
       "        vertical-align: top;\n",
       "    }\n",
       "\n",
       "    .dataframe thead th {\n",
       "        text-align: right;\n",
       "    }\n",
       "</style>\n",
       "<table border=\"1\" class=\"dataframe\">\n",
       "  <thead>\n",
       "    <tr style=\"text-align: right;\">\n",
       "      <th></th>\n",
       "      <th>0</th>\n",
       "    </tr>\n",
       "  </thead>\n",
       "  <tbody>\n",
       "    <tr>\n",
       "      <th>0</th>\n",
       "      <td>493.1</td>\n",
       "    </tr>\n",
       "    <tr>\n",
       "      <th>1</th>\n",
       "      <td>378.4</td>\n",
       "    </tr>\n",
       "    <tr>\n",
       "      <th>2</th>\n",
       "      <td>480.4</td>\n",
       "    </tr>\n",
       "    <tr>\n",
       "      <th>3</th>\n",
       "      <td>499.0</td>\n",
       "    </tr>\n",
       "    <tr>\n",
       "      <th>4</th>\n",
       "      <td>340.9</td>\n",
       "    </tr>\n",
       "    <tr>\n",
       "      <th>...</th>\n",
       "      <td>...</td>\n",
       "    </tr>\n",
       "    <tr>\n",
       "      <th>450</th>\n",
       "      <td>587.4</td>\n",
       "    </tr>\n",
       "    <tr>\n",
       "      <th>451</th>\n",
       "      <td>1386.0</td>\n",
       "    </tr>\n",
       "    <tr>\n",
       "      <th>452</th>\n",
       "      <td>481.9</td>\n",
       "    </tr>\n",
       "    <tr>\n",
       "      <th>453</th>\n",
       "      <td>1033.0</td>\n",
       "    </tr>\n",
       "    <tr>\n",
       "      <th>454</th>\n",
       "      <td>492.1</td>\n",
       "    </tr>\n",
       "  </tbody>\n",
       "</table>\n",
       "<p>455 rows × 1 columns</p>\n",
       "</div>"
      ],
      "text/plain": [
       "          0\n",
       "0     493.1\n",
       "1     378.4\n",
       "2     480.4\n",
       "3     499.0\n",
       "4     340.9\n",
       "..      ...\n",
       "450   587.4\n",
       "451  1386.0\n",
       "452   481.9\n",
       "453  1033.0\n",
       "454   492.1\n",
       "\n",
       "[455 rows x 1 columns]"
      ]
     },
     "execution_count": 10,
     "metadata": {},
     "output_type": "execute_result"
    }
   ],
   "source": [
    "pd.DataFrame(Y_train)\n",
    "#pd.DataFrame(Y_test)"
   ]
  },
  {
   "cell_type": "markdown",
   "metadata": {
    "id": "RPckPegzSY0F"
   },
   "source": [
    "Se entrena el modelo a través de Regresión Lineal Múltiple"
   ]
  },
  {
   "cell_type": "code",
   "execution_count": 11,
   "metadata": {
    "colab": {
     "base_uri": "https://localhost:8080/"
    },
    "executionInfo": {
     "elapsed": 145,
     "status": "ok",
     "timestamp": 1636479402328,
     "user": {
      "displayName": "Guillermo Molero-Castillo",
      "photoUrl": "https://lh3.googleusercontent.com/a/default-user=s64",
      "userId": "05385957137518665248"
     },
     "user_tz": 360
    },
    "id": "FUYZG59g4LCY",
    "outputId": "9b8edb9a-0966-4cd1-a9f2-14d227b3d60e"
   },
   "outputs": [
    {
     "data": {
      "text/plain": [
       "LinearRegression(copy_X=True, fit_intercept=True, n_jobs=None, normalize=False)"
      ]
     },
     "execution_count": 11,
     "metadata": {},
     "output_type": "execute_result"
    }
   ],
   "source": [
    "RLMultiple = linear_model.LinearRegression()\n",
    "RLMultiple.fit(X_train, Y_train)                 #Se entrena el modelo"
   ]
  },
  {
   "cell_type": "markdown",
   "metadata": {
    "id": "KcUKXDuXBKrd"
   },
   "source": [
    "Se genera el pronóstico"
   ]
  },
  {
   "cell_type": "code",
   "execution_count": 12,
   "metadata": {
    "colab": {
     "base_uri": "https://localhost:8080/",
     "height": 419
    },
    "executionInfo": {
     "elapsed": 185,
     "status": "ok",
     "timestamp": 1636479575313,
     "user": {
      "displayName": "Guillermo Molero-Castillo",
      "photoUrl": "https://lh3.googleusercontent.com/a/default-user=s64",
      "userId": "05385957137518665248"
     },
     "user_tz": 360
    },
    "id": "E43tIuH7z1jP",
    "outputId": "4abc5f5b-0580-4288-d680-758b36d043f3"
   },
   "outputs": [
    {
     "data": {
      "text/html": [
       "<div>\n",
       "<style scoped>\n",
       "    .dataframe tbody tr th:only-of-type {\n",
       "        vertical-align: middle;\n",
       "    }\n",
       "\n",
       "    .dataframe tbody tr th {\n",
       "        vertical-align: top;\n",
       "    }\n",
       "\n",
       "    .dataframe thead th {\n",
       "        text-align: right;\n",
       "    }\n",
       "</style>\n",
       "<table border=\"1\" class=\"dataframe\">\n",
       "  <thead>\n",
       "    <tr style=\"text-align: right;\">\n",
       "      <th></th>\n",
       "      <th>0</th>\n",
       "    </tr>\n",
       "  </thead>\n",
       "  <tbody>\n",
       "    <tr>\n",
       "      <th>0</th>\n",
       "      <td>405.607887</td>\n",
       "    </tr>\n",
       "    <tr>\n",
       "      <th>1</th>\n",
       "      <td>334.291077</td>\n",
       "    </tr>\n",
       "    <tr>\n",
       "      <th>2</th>\n",
       "      <td>505.762398</td>\n",
       "    </tr>\n",
       "    <tr>\n",
       "      <th>3</th>\n",
       "      <td>207.726058</td>\n",
       "    </tr>\n",
       "    <tr>\n",
       "      <th>4</th>\n",
       "      <td>604.229256</td>\n",
       "    </tr>\n",
       "    <tr>\n",
       "      <th>...</th>\n",
       "      <td>...</td>\n",
       "    </tr>\n",
       "    <tr>\n",
       "      <th>109</th>\n",
       "      <td>394.439214</td>\n",
       "    </tr>\n",
       "    <tr>\n",
       "      <th>110</th>\n",
       "      <td>1107.202694</td>\n",
       "    </tr>\n",
       "    <tr>\n",
       "      <th>111</th>\n",
       "      <td>541.131191</td>\n",
       "    </tr>\n",
       "    <tr>\n",
       "      <th>112</th>\n",
       "      <td>570.702628</td>\n",
       "    </tr>\n",
       "    <tr>\n",
       "      <th>113</th>\n",
       "      <td>2044.635054</td>\n",
       "    </tr>\n",
       "  </tbody>\n",
       "</table>\n",
       "<p>114 rows × 1 columns</p>\n",
       "</div>"
      ],
      "text/plain": [
       "               0\n",
       "0     405.607887\n",
       "1     334.291077\n",
       "2     505.762398\n",
       "3     207.726058\n",
       "4     604.229256\n",
       "..           ...\n",
       "109   394.439214\n",
       "110  1107.202694\n",
       "111   541.131191\n",
       "112   570.702628\n",
       "113  2044.635054\n",
       "\n",
       "[114 rows x 1 columns]"
      ]
     },
     "execution_count": 12,
     "metadata": {},
     "output_type": "execute_result"
    }
   ],
   "source": [
    "#Se genera el pronóstico\n",
    "Y_Pronostico = RLMultiple.predict(X_test)\n",
    "pd.DataFrame(Y_Pronostico)"
   ]
  },
  {
   "cell_type": "code",
   "execution_count": 13,
   "metadata": {
    "colab": {
     "base_uri": "https://localhost:8080/"
    },
    "executionInfo": {
     "elapsed": 160,
     "status": "ok",
     "timestamp": 1636479637354,
     "user": {
      "displayName": "Guillermo Molero-Castillo",
      "photoUrl": "https://lh3.googleusercontent.com/a/default-user=s64",
      "userId": "05385957137518665248"
     },
     "user_tz": 360
    },
    "id": "e3WMANPs0hkT",
    "outputId": "614e8ec8-3885-4e9e-b64b-6420e25c2fa9"
   },
   "outputs": [
    {
     "data": {
      "text/plain": [
       "0.9769070115972408"
      ]
     },
     "execution_count": 13,
     "metadata": {},
     "output_type": "execute_result"
    }
   ],
   "source": [
    "r2_score(Y_test, Y_Pronostico)"
   ]
  },
  {
   "cell_type": "markdown",
   "metadata": {
    "id": "5BODxQD2bve_"
   },
   "source": [
    "#### **5) Obtención de los coeficientes, intercepto, error y Score**"
   ]
  },
  {
   "cell_type": "code",
   "execution_count": 14,
   "metadata": {
    "colab": {
     "base_uri": "https://localhost:8080/"
    },
    "executionInfo": {
     "elapsed": 165,
     "status": "ok",
     "timestamp": 1636479752393,
     "user": {
      "displayName": "Guillermo Molero-Castillo",
      "photoUrl": "https://lh3.googleusercontent.com/a/default-user=s64",
      "userId": "05385957137518665248"
     },
     "user_tz": 360
    },
    "id": "X1kfBIkd5PSi",
    "outputId": "6699e219-8f4d-478f-d5af-7c758f6f4ced"
   },
   "outputs": [
    {
     "name": "stdout",
     "output_type": "stream",
     "text": [
      "Coeficientes: \n",
      " [[ 6.86261446e-01  1.63885604e+01  2.50787388e+01 -1.40602548e+03\n",
      "   1.46803422e+02  6.23269303e+03]]\n",
      "Intercepto: \n",
      " [-1140.33616115]\n",
      "Residuo: 456.3649\n",
      "MSE: 3083.2634\n",
      "RMSE: 55.5271\n",
      "Score (Bondad de ajuste): 0.9769\n"
     ]
    }
   ],
   "source": [
    "print('Coeficientes: \\n', RLMultiple.coef_)\n",
    "print('Intercepto: \\n', RLMultiple.intercept_)\n",
    "print(\"Residuo: %.4f\" % max_error(Y_test, Y_Pronostico))\n",
    "print(\"MSE: %.4f\" % mean_squared_error(Y_test, Y_Pronostico))\n",
    "print(\"RMSE: %.4f\" % mean_squared_error(Y_test, Y_Pronostico, squared=False))   #True devuelve MSE, False devuelve RMSE\n",
    "print('Score (Bondad de ajuste): %.4f' % r2_score(Y_test, Y_Pronostico))"
   ]
  },
  {
   "cell_type": "markdown",
   "metadata": {
    "id": "fR_PUrQa-kYa"
   },
   "source": [
    "#### **6) a. Conformación del modelo de pronóstico**\n",
    "\n",
    "Y = −1140.34 + 0.69(Texture) + 16.39(Perimeter) + 25.08(Smoothness) − 1406.03(Compactness) + 146.80(Symmetry) + 6232.69(FractalDimension) + 456.36\n",
    "\n",
    "* Se tiene un Score de 0.9769, el cual indica que el pronóstico del Area del tumor se logrará con un 97.69% de efectividad.\n",
    "* Además, los pronósticos del modelo final se alejan en promedio 3083.26 y 55.53 unidades del valor real, esto es, MSE y RMSE, respectivamente."
   ]
  },
  {
   "cell_type": "markdown",
   "metadata": {
    "id": "1w-UUw0h4B5J"
   },
   "source": [
    "#### **6) b. Conformación del modelo de pronóstico (Con todas las variables)**\n",
    "\n",
    "Y = −976.18 − 35.08(Radius) + 0.48(Texture) + 20.79(Perimeter) − 169.89(Smoothness) − 1894.45(Compactness) + 232.74(Concavity) + 529.22(ConcavePoints) + 66.61(Symmetry) + 5716.43(FractalDimension) + 425.23\n",
    "\n",
    "* Se tiene un Score de 0.9780, el cual indica que el pronóstico del Area del tumor se logrará con un 97.8% de efectividad.\n",
    "* Además, los pronósticos del modelo final se alejan en promedio 2932.75 y 54.15 unidades del valor real, esto es, MSE y RMSE, respectivamente."
   ]
  },
  {
   "cell_type": "markdown",
   "metadata": {
    "id": "WIZxEZWFB7L0"
   },
   "source": [
    "#### **7) Nuevos pronósticos**"
   ]
  },
  {
   "cell_type": "code",
   "execution_count": 15,
   "metadata": {
    "colab": {
     "base_uri": "https://localhost:8080/"
    },
    "executionInfo": {
     "elapsed": 152,
     "status": "ok",
     "timestamp": 1636480146980,
     "user": {
      "displayName": "Guillermo Molero-Castillo",
      "photoUrl": "https://lh3.googleusercontent.com/a/default-user=s64",
      "userId": "05385957137518665248"
     },
     "user_tz": 360
    },
    "id": "qcFmizP6CL-o",
    "outputId": "e3b567e4-8e37-447b-c986-a080b5a320a4"
   },
   "outputs": [
    {
     "data": {
      "text/plain": [
       "array([[1939.80435773]])"
      ]
     },
     "execution_count": 15,
     "metadata": {},
     "output_type": "execute_result"
    }
   ],
   "source": [
    "AreaTumorID600 = pd.DataFrame({'Texture': [18.32], \n",
    "                          'Perimeter': [166.82], \n",
    "                          'Smoothness': [0.08142], \n",
    "                          'Compactness': [0.04462], \n",
    "                          'Symmetry': [0.2372], \n",
    "                          'FractalDimension': [0.05768]})\n",
    "RLMultiple.predict(AreaTumorID600)"
   ]
  }
 ],
 "metadata": {
  "colab": {
   "authorship_tag": "ABX9TyOQrcWy7SNFsBalKyIO2Bpm",
   "name": "IA_Práctica9-Pronóstico.ipynb",
   "provenance": []
  },
  "kernelspec": {
   "display_name": "Python 3",
   "language": "python",
   "name": "python3"
  },
  "language_info": {
   "codemirror_mode": {
    "name": "ipython",
    "version": 3
   },
   "file_extension": ".py",
   "mimetype": "text/x-python",
   "name": "python",
   "nbconvert_exporter": "python",
   "pygments_lexer": "ipython3",
   "version": "3.7.6"
  }
 },
 "nbformat": 4,
 "nbformat_minor": 1
}
